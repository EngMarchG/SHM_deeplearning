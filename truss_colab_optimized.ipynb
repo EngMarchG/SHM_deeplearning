{
  "cells": [
    {
      "cell_type": "markdown",
      "metadata": {
        "id": "5cgFUhSkuMpg"
      },
      "source": [
        "# 2D Bridge Frame Analysis\n"
      ]
    },
    {
      "cell_type": "code",
      "execution_count": null,
      "metadata": {
        "cellView": "form",
        "id": "Zfth6AjUGlNe"
      },
      "outputs": [],
      "source": [
        "#@title Update and use python 3.12 for performance boosts\n",
        "%%capture\n",
        "\n",
        "# !pip install symengine\n",
        "!pip install cython\n",
        "!pip install dill\n",
        "!pip install huggingface_hub\n",
        "# !pip install numpy --upgrade\n",
        "\n",
        "\n",
        "# Install python 3.12 (for faster performance)\n",
        "!sudo apt-get update -y\n",
        "!sudo apt-get install python3.12\n",
        "!sudo apt-get install python3-pip\n",
        "\n",
        "# Change default python3 to 3.12\n",
        "!sudo update-alternatives --install /usr/bin/python3 python3 /usr/bin/python3.12 1\n",
        "\n",
        "# Confirm version\n",
        "!python3 --version\n",
        "# Python 3.12.1"
      ]
    },
    {
      "cell_type": "code",
      "execution_count": null,
      "metadata": {
        "cellView": "form",
        "id": "gxPLvOGWAvIq"
      },
      "outputs": [],
      "source": [
        "#@title Download the SMH dataset and move it to the current working directory\n",
        "%%capture\n",
        "\n",
        "# For huggingface\n",
        "from google.colab import userdata\n",
        "\n",
        "import os\n",
        "import shutil\n",
        "from huggingface_hub import snapshot_download\n",
        "\n",
        "repo_id = \"your_repo_id\"  # Replace with the actual repository ID\n",
        "repo_type = \"dataset\"  # Specify the repository type (model or dataset)\n",
        "destination_path = \"SMH\"\n",
        "# token = \"your_hugging_face_token\"  # Replace with your actual Hugging Face token\n",
        "token = userdata.get('HF_TOKEN')     # If secrets use this\n",
        "\n",
        "if not os.path.exists(destination_path):\n",
        "    os.makedirs(destination_path)\n",
        "\n",
        "# Download the entire dataset to the specified destination path\n",
        "snapshot_download(repo_id, repo_type=repo_type, revision=\"main\", token=token, local_dir=destination_path)\n",
        "\n",
        "# Move the 'combos' folder to the current working directory\n",
        "combos_folder_path = os.path.join(destination_path, \"combos\")\n",
        "if os.path.exists(combos_folder_path):\n",
        "    shutil.move(combos_folder_path, os.getcwd())\n",
        "    print(f\"Moved 'combos' folder to the current working directory.\")\n",
        "else:\n",
        "    print(\"The 'combos' folder does not exist in the downloaded dataset.\")\n",
        "\n",
        "\n",
        "def move_contents_out_and_delete_folder(folderpath):\n",
        "    # Ensure the folderpath exists and is a directory\n",
        "    if not os.path.exists(folderpath):\n",
        "        print(f\"The specified path does not exist: {folderpath}\")\n",
        "        return\n",
        "\n",
        "    if not os.path.isdir(folderpath):\n",
        "        print(f\"The specified path is not a directory: {folderpath}\")\n",
        "        return\n",
        "\n",
        "    # Get the parent directory of the folderpath\n",
        "    parent_dir = os.path.dirname(folderpath)\n",
        "\n",
        "    # Move all contents (files and subdirectories) from the folderpath to the parent directory\n",
        "    for item in os.listdir(folderpath):\n",
        "        src_path = os.path.join(folderpath, item)\n",
        "        dst_path = os.path.join(parent_dir, item)\n",
        "\n",
        "        # Move the file or directory\n",
        "        shutil.move(src_path, dst_path)\n",
        "\n",
        "    # Remove the now empty folder\n",
        "    os.rmdir(folderpath)\n",
        "    print(f\"All contents moved and folder '{folderpath}' deleted.\")\n",
        "\n",
        "move_contents_out_and_delete_folder(f\"./{destination_path}\")"
      ]
    },
    {
      "cell_type": "code",
      "execution_count": null,
      "metadata": {
        "id": "OYSmlz6RMNd4"
      },
      "outputs": [],
      "source": [
        "#@title Importing Libraries\n",
        "# magic to reload modules when they change\n",
        "%load_ext autoreload\n",
        "%autoreload 2\n",
        "\n",
        "import os\n",
        "import re\n",
        "import math\n",
        "import time\n",
        "import importlib\n",
        "import numpy as np\n",
        "import sympy as sp\n",
        "from google.colab import files\n",
        "import matplotlib.pyplot as plt\n",
        "from sympy import Matrix, lambdify\n",
        "from sympy.utilities.codegen import codegen\n",
        "from concurrent.futures import ProcessPoolExecutor, ThreadPoolExecutor\n",
        "\n",
        "\n",
        "import logging\n",
        "from utils.geometric import *\n",
        "from truss_constraints import *\n",
        "from utils.truss_helpers import *\n",
        "\n",
        "# Set up logging\n",
        "logging.basicConfig(level=logging.INFO, format='%(asctime)s - %(message)s')\n",
        "\n"
      ]
    },
    {
      "cell_type": "markdown",
      "metadata": {
        "id": "g8Xb5C70rt-c"
      },
      "source": [
        "# Building the truss structure\n"
      ]
    },
    {
      "cell_type": "code",
      "execution_count": null,
      "metadata": {
        "cellView": "form",
        "colab": {
          "base_uri": "https://localhost:8080/"
        },
        "id": "dBL9Ms31ivhz",
        "outputId": "9dbb931d-90aa-4955-c0a0-74e717c60b31"
      },
      "outputs": [
        {
          "data": {
            "text/plain": [
              "('X_combo_output4_60.csv',\n",
              " 'E_combo_output4_60.csv',\n",
              " 'A_combo_output4_60.csv',\n",
              " 'J_combo_output4_60.csv',\n",
              " 'h_combo_output4_60.csv',\n",
              " 'T_combo_output4_60.csv',\n",
              " 'w_combo_output4_60.csv')"
            ]
          },
          "execution_count": 6,
          "metadata": {},
          "output_type": "execute_result"
        }
      ],
      "source": [
        "#@title Choose which file to analyze\n",
        "csv_name = \"combos/combo4_60.csv\"\n",
        "X_disp_tot = \"X_combo_output\"\n",
        "E_combo_output = \"E_combo_output\"\n",
        "A_combo_output = \"A_combo_output\"\n",
        "J_combo_output = \"J_combo_output\"\n",
        "h_combo_output = \"h_combo_output\"\n",
        "T_combo_output = \"T_combo_output\"\n",
        "w_combo_output = \"w_combo_output\"\n",
        "\n",
        "plot_emphasis = 1\n",
        "\n",
        "# Extract the first number and everything from that number till the end (excluding extension)\n",
        "match = re.search(r'\\d.*?(?=\\.)', csv_name)\n",
        "\n",
        "if match:\n",
        "    extracted_sequence = match.group()\n",
        "    X_disp_tot += extracted_sequence\n",
        "    E_combo_output += extracted_sequence\n",
        "    A_combo_output += extracted_sequence\n",
        "    J_combo_output += extracted_sequence\n",
        "    h_combo_output += extracted_sequence\n",
        "    T_combo_output += extracted_sequence\n",
        "    w_combo_output += extracted_sequence\n",
        "\n",
        "X_output_file = X_disp_tot + \".csv\"\n",
        "E_output_file = E_combo_output + \".csv\"\n",
        "A_output_file = A_combo_output + \".csv\"\n",
        "J_output_file = J_combo_output + \".csv\"\n",
        "h_output_file = h_combo_output + \".csv\"\n",
        "T_output_file = T_combo_output + \".csv\"\n",
        "w_output_file = w_combo_output + \".csv\"\n",
        "X_output_file"
      ]
    },
    {
      "cell_type": "markdown",
      "metadata": {
        "id": "1up6yg4lOlAe"
      },
      "source": [
        "# Bridge Structure"
      ]
    },
    {
      "cell_type": "code",
      "execution_count": null,
      "metadata": {
        "colab": {
          "base_uri": "https://localhost:8080/",
          "height": 35
        },
        "id": "bQFqJAxkzvxl",
        "outputId": "6673394d-ccd2-49f1-8278-306eb435aeec"
      },
      "outputs": [
        {
          "data": {
            "application/vnd.google.colaboratory.intrinsic+json": {
              "type": "string"
            },
            "text/plain": [
              "'X_combo_output4567.csv'"
            ]
          },
          "execution_count": 3,
          "metadata": {},
          "output_type": "execute_result"
        }
      ],
      "source": [
        "#@title Choose which file to analyze\n",
        "csv_name = \"combos/bridge_combo4567.csv\"\n",
        "Y_disp_tot = \"Y_combo_output\"\n",
        "X_disp_tot = \"X_combo_output\"\n",
        "E_combo_output = \"E_combo_output\"\n",
        "A_combo_output = \"A_combo_output\"\n",
        "J_combo_output = \"J_combo_output\"\n",
        "h_combo_output = \"h_combo_output\"\n",
        "T_combo_output = \"T_combo_output\"\n",
        "w_combo_output = \"w_combo_output\"\n",
        "\n",
        "plot_emphasis = 1\n",
        "\n",
        "# Extract the first number and everything from that number till the end (excluding extension)\n",
        "match = re.search(r'\\d.*?(?=\\.)', csv_name)\n",
        "\n",
        "if match:\n",
        "    extracted_sequence = match.group()\n",
        "    Y_disp_tot += extracted_sequence\n",
        "    X_disp_tot += extracted_sequence\n",
        "    E_combo_output += extracted_sequence\n",
        "    A_combo_output += extracted_sequence\n",
        "    J_combo_output += extracted_sequence\n",
        "    h_combo_output += extracted_sequence\n",
        "    T_combo_output += extracted_sequence\n",
        "    w_combo_output += extracted_sequence\n",
        "\n",
        "Y_output_file = Y_disp_tot + \".csv\"\n",
        "X_output_file = X_disp_tot + \".csv\"\n",
        "E_output_file = E_combo_output + \".csv\"\n",
        "A_output_file = A_combo_output + \".csv\"\n",
        "J_output_file = J_combo_output + \".csv\"\n",
        "h_output_file = h_combo_output + \".csv\"\n",
        "T_output_file = T_combo_output + \".csv\"\n",
        "w_output_file = w_combo_output + \".csv\"\n",
        "X_output_file"
      ]
    },
    {
      "cell_type": "markdown",
      "metadata": {},
      "source": [
        "## New method with Cython"
      ]
    },
    {
      "cell_type": "code",
      "execution_count": null,
      "metadata": {},
      "outputs": [],
      "source": [
        "# Bernoulli or timoshenko, newton or lagrangian\n",
        "beam_type = \"bernoulli\"\n",
        "use_lagrangian = False\n",
        "\n",
        "# Basic geometric functions already defined previously\n",
        "span = 25\n",
        "angle = 45\n",
        "beam_length = 2.5\n",
        "skip_rod = []\n",
        "truss_mode = \"warren\" # warren, pratt, howe\n",
        "\n",
        "# Calculation of bridge geometry\n",
        "height, spacing, diag = calculate_bridge(span, angle, beam_length, truss_mode)\n",
        "n_columns, n_nod_tot, n_rods, n_beams, n_ele_tot, n_bot_beams = calculate_essential_elements(span, spacing, truss_mode, skip_rod)\n",
        "\n",
        "# Recalculates the skip_rod to match the truss design\n",
        "skip_rod = truss_design(n_bot_beams, n_rods, truss_mode)\n",
        "n_columns, n_nod_tot, n_rods, n_beams, n_ele_tot, n_bot_beams = calculate_essential_elements(span, spacing, truss_mode, skip_rod)\n",
        "\n",
        "\n",
        "# Calculation of nodal coordinates and construction of par, pel matrices and element node indices\n",
        "# Building priorty: Beams -> Columns -> Rods\n",
        "nodal_coord, par, pel, ele_nod, n_par_tot = calculate_element_node(span, spacing, height, n_dim, n_par_nod, truss_mode, skip_rod)\n",
        "\n",
        "# Seperating nodal coordinates into x and y coordinates\n",
        "X = np.zeros(n_nod_tot, dtype=float)\n",
        "Y = np.zeros(n_nod_tot, dtype=float)\n",
        "X[:] = nodal_coord[:, 0]\n",
        "Y[:] = nodal_coord[:, 1]\n",
        "\n",
        "\n",
        "# -------- BOUNDARY CONDITIONS --------\n",
        "# Focuses only on the first and last node connect to the ground (roller, pin, fixed)\n",
        "W = boundary_conditions(n_bot_beams, n_par_nod, n_nod_tot, supports=[\"pin\", \"roller\"])\n",
        "pel = pel.astype(np.int32)\n",
        "W = W.astype(np.int32)\n",
        "ele_nod = ele_nod.astype(np.int32)\n",
        "\n",
        "# # -------- ELEMENT CHARACTERIZING DATA --------\n",
        "h = np.zeros(n_ele_tot, dtype=np.float32)\n",
        "J = np.zeros(n_ele_tot, dtype=np.float32)\n",
        "A = np.zeros(n_ele_tot, dtype=np.float32)\n",
        "beta = np.zeros(n_ele_tot,dtype=np.float32)\n",
        "ro = np.zeros(n_ele_tot,dtype=np.float32)\n",
        "E = np.zeros(n_ele_tot, dtype=np.float32)\n",
        "\n",
        "\n",
        "# # -------- ELEMENT PROPERTIES --------\n",
        "J, A, h, beta, ro, E, G = calculate_element_properties(n_columns, n_beams, diag, spacing, height, J, A, h, beta, ro, E, X, Y, ele_nod, shear_mod,\n",
        "                                                 width_properties, height_properties, unit_weight_properties, elastic_mod_properties)\n",
        "\n",
        "\n",
        "# -------- SYMBOLIC CALCULATIONS (Moved outside loop) --------\n",
        "# Define the symbols\n",
        "(x, xi, h_e, beta_e, beta_curr, qe, a_arr, b_arr,\n",
        "    c_arr, d_arr, e_arr, A_e, E_e, J_e, ro_e, T, fo_E, X_old, Y_old,\n",
        "        Qglo_pel_curr, w_arr, r_arr, f_arr, g_arr) = initialize_symbols(n_par_ele)\n",
        "\n",
        "# Compute the local displacement expressions\n",
        "v1, u1, v2, u2 = compute_v_u(qe, beta_e)\n",
        "\n",
        "# Calculate the beam displacement expressions\n",
        "(ve_beam_func, ue_beam_func, ve_beam, ue_beam, ve_rod_func,\n",
        "    ue_rod_func, ve_rod, ue_rod, alpha_e_beam) = calculate_displacement_equations(x, xi, h_e, beta_e, qe, a_arr, b_arr, c_arr, d_arr, e_arr,\n",
        "                                     beam_type, use_lagrangian)\n",
        "\n",
        "# Calculate the energies of beams and rods\n",
        "pot_beam, kin_beam, pot_rod, kin_rod = calculate_energies(beam_type, ve_beam, ue_beam, alpha_e_beam, ve_rod,\n",
        "                                                          ue_rod, x, h_e, E_e, J_e, A_e, ro_e, G, k_shear)\n",
        "\n",
        "\n",
        "\n",
        "# -------- STIFFNESS AND MASS SYMBOLIC MATRICES (MOVED OUT OF LOOP) --------\n",
        "# Calculate the lambdified expressions of stiffness and mass matrices\n",
        "(K_beam, M_beam, K_rod, M_rod, K_beam_func, M_beam_func,\n",
        " K_rod_func, M_rod_func) = construct_lambdified_matrices(n_par_ele, pot_beam, kin_beam, pot_rod, kin_rod,\n",
        "                                                         qe, h_e, A_e, E_e, J_e, beta_e, ro_e)\n",
        "\n",
        "# -------- GLOBAL DISPLACEMENTS (MOVED OUT OF LOOP) --------\n",
        "# Defines local displacements and calculates global displacements symbolic lambda functions\n",
        "(X_new_beam, Y_new_beam, X_new_rod, Y_new_rod, X_new_beam_func, Y_new_beam_func,\n",
        " X_new_rod_func, Y_new_rod_func) = calculate_global_displacements(Qglo_pel_curr, beta_e, h_e, x, xi, f_arr,\n",
        "                                                                         g_arr, w_arr, r_arr, beam_type,\n",
        "                                                                         X_old, Y_old, use_lagrangian)\n",
        "\n",
        "\n",
        "#Turn the symbolic functions into lambdified functions suitable for Cython\n",
        "functions = [\n",
        "    (\"K_beam_func\", K_beam),\n",
        "    (\"M_beam_func\", M_beam),\n",
        "    (\"K_rod_func\", K_rod),\n",
        "    (\"M_rod_func\", M_rod),\n",
        "]\n",
        "\n",
        "# Generate C code\n",
        "codegen(\n",
        "    functions,\n",
        "    language=\"C\",\n",
        "    project=\"utils/cython\",\n",
        "    to_files=True\n",
        ")\n",
        "\n",
        "\n",
        "functions = [\n",
        "    (\"X_beam_func\", X_new_beam),\n",
        "    (\"Y_beam_func\", Y_new_beam),\n",
        "    (\"X_rod_func\", X_new_rod),\n",
        "    (\"Y_rod_func\", Y_new_rod),\n",
        "]\n",
        "\n",
        "# Generate C code\n",
        "codegen(\n",
        "    functions,\n",
        "    language=\"C\",\n",
        "    project=\"utils/cython\",\n",
        "    to_files=True\n",
        ")\n",
        "\n",
        "\n",
        "def replace_include_guards(file_path):\n",
        "    with open(file_path, 'r') as file:\n",
        "        content = file.read()\n",
        "\n",
        "    # Replace slashes with underscores in the include guards\n",
        "    content = content.replace('UTILS/CYTHON__', 'UTILS_CYTHON__')\n",
        "\n",
        "    # Add whitespace after the define directive if missing\n",
        "    content = content.replace('#defineUTILS_CYTHON__', '#define UTILS_CYTHON__')\n",
        "\n",
        "    with open(file_path, 'w') as file:\n",
        "        file.write(content)\n",
        "\n",
        "# Paths to the header files\n",
        "header_files = [\n",
        "    \"K_beam_func.h\",\n",
        "    \"X_beam_func.h\"\n",
        "]\n",
        "\n",
        "# Move the generated C files and modify the include guards in the header files\n",
        "for header_file in header_files:\n",
        "    source_path = header_file\n",
        "    dest_path = os.path.join(\"utils/cython\", header_file)\n",
        "\n",
        "    # Replace include guards\n",
        "    replace_include_guards(source_path)\n",
        "\n",
        "    # Move the header file to the destination\n",
        "    shutil.move(source_path, dest_path)\n",
        "\n",
        "# Move the generated C files\n",
        "shutil.move(\"K_beam_func.c\", \"utils/cython/K_beam_func.c\")\n",
        "shutil.move(\"X_beam_func.c\", \"utils/cython/X_beam_func.c\")\n",
        "\n",
        "!rm -r utils/cython/build\n",
        "!cd utils/cython && python setup.py build_ext --inplace\n",
        "\n",
        "from utils.cython.assemble_matrices import assemble_global_matrices_cython, apply_boundary_conditions_cython, compute_element_matrices_cython, compute_element_coordinates_cython"
      ]
    },
    {
      "cell_type": "code",
      "execution_count": null,
      "metadata": {
        "colab": {
          "base_uri": "https://localhost:8080/"
        },
        "id": "KBQsOV2QWT12",
        "outputId": "f9bb47de-498d-4392-fee8-ff4d875e5c30"
      },
      "outputs": [
        {
          "name": "stdout",
          "output_type": "stream",
          "text": [
            "118711\n",
            "Elapsed time: 1715.0391359329224 seconds\n"
          ]
        }
      ],
      "source": [
        "#@title Building a truss structure for a bridge (Cython)\n",
        "\n",
        "#@title Main function to run\n",
        "start_time = time.time()\n",
        "# Read the combo file\n",
        "modulus_combo = np.loadtxt(csv_name, delimiter=',', skiprows=1)\n",
        "print(len(modulus_combo))\n",
        "\n",
        "# Beam/col indices and rod_indices\n",
        "beam_indices = np.arange(n_ele_tot - n_rods, dtype=np.int32)\n",
        "rod_indices = np.arange(n_ele_tot - n_rods, n_ele_tot, dtype=np.int32)\n",
        "\n",
        "# -------- FINAL RESULT ARRAYS --------\n",
        "# Store the total displacements\n",
        "Y_disp_tot = np.zeros((len(modulus_combo), n_plots, n_ele_tot))\n",
        "X_disp_tot = np.zeros((len(modulus_combo), n_plots, n_ele_tot))\n",
        "E_output = np.zeros((len(modulus_combo), n_ele_tot))\n",
        "A_output = np.zeros((len(modulus_combo), n_ele_tot))\n",
        "J_output = np.zeros((len(modulus_combo), n_ele_tot))\n",
        "h_output = np.zeros((len(modulus_combo), n_ele_tot))\n",
        "T_output = np.zeros((len(modulus_combo), n_plots, n_ele_tot))\n",
        "w_output = np.zeros((len(modulus_combo), n_plots, n_ele_tot))\n",
        "\n",
        "amplifier = int(span/spacing)\n",
        "for l in range(1):\n",
        "    for iterr, E_combos in enumerate(modulus_combo):\n",
        "        E[:] = E_combos[:]\n",
        "\n",
        "        # -------- ASSEMBLE GLOBAL STIFFNESS MATRIX --------\n",
        "        element_matrices = compute_element_matrices_cython(\n",
        "            n_ele_tot, beam_indices, rod_indices,\n",
        "            h, A, E, J, beta, ro\n",
        "        )\n",
        "        K, M = assemble_global_matrices_cython(element_matrices, pel, n_par_tot)\n",
        "        K, M = apply_boundary_conditions_cython(K, M, W, tol=1e-5)\n",
        "\n",
        "\n",
        "        # -------- EIGENVALUE PROBLEM --------\n",
        "        # Compute eigenvalues (lamb) and eigenvectors (phis)\n",
        "        # Already taken the real part and normalized\n",
        "        # Compute eigenvalues and eigenvectors using scipy method without filtering\n",
        "        lamb_r, phis_norm = compute_eigenvalues_and_eigenvectors(K, M, method='numpy', filter_numerical_stability=True, threshold=1e-10)\n",
        "        index_modes, sorted_period, period = get_mode_indices(lamb_r, phis_norm, n_plots)\n",
        "\n",
        "        # Extract lambdas and corresponding eigenvectors\n",
        "        lamb_plots = lamb_r[index_modes]\n",
        "        phis_plots = phis_norm[:, index_modes]\n",
        "\n",
        "        # Define lists\n",
        "        X_new_sub, Y_new_sub, X_disp, Y_disp = compute_element_coordinates_cython(\n",
        "                    n_plots, n_ele_tot, n_rods, n_discritizations, span, spacing,\n",
        "                    X, Y, ele_nod, beta, h, pel, phis_plots, use_lagrangian)\n",
        "\n",
        "\n",
        "        Y_disp_tot[iterr] = Y_disp\n",
        "        X_disp_tot[iterr] = X_disp\n",
        "\n",
        "        E_output[iterr] = E\n",
        "        A_output[iterr] = A\n",
        "        J_output[iterr] = J\n",
        "        h_output[iterr] = h\n",
        "        for i in range(n_plots):\n",
        "          T_output[iterr][i] = np.full(n_ele_tot, period[index_modes[i]])\n",
        "          w_output[iterr][i] = np.full(n_ele_tot, math.sqrt(lamb_plots[i]))\n",
        "\n",
        "        # print(X_disp[0,:])\n",
        "end_time = time.time()\n",
        "print(\"Elapsed time:\", end_time - start_time, \"seconds\")\n",
        "# 190k took 4 hours (original) & 118711 in 28 mins (new) => 46 mins for 190k (new)\n",
        "np.savetxt(Y_output_file, Y_disp_tot.reshape(len(modulus_combo), -1), delimiter=\",\")\n",
        "np.savetxt(X_output_file, X_disp_tot.reshape(len(modulus_combo), -1), delimiter=\",\")\n",
        "np.savetxt(E_output_file, E_output, delimiter=\",\")\n",
        "np.savetxt(A_output_file, A_output, delimiter=\",\")\n",
        "np.savetxt(J_output_file, J_output, delimiter=\",\")\n",
        "np.savetxt(h_output_file, h_output, delimiter=\",\")\n",
        "np.savetxt(T_output_file, T_output.reshape(len(modulus_combo), -1), delimiter=\",\")\n",
        "np.savetxt(w_output_file, w_output.reshape(len(modulus_combo), -1), delimiter=\",\")"
      ]
    },
    {
      "cell_type": "code",
      "execution_count": null,
      "metadata": {
        "colab": {
          "base_uri": "https://localhost:8080/",
          "height": 156
        },
        "id": "1fVzaP0Bdari",
        "outputId": "4d0a3537-123d-4ef7-e324-e3a3a511ee99"
      },
      "outputs": [
        {
          "data": {
            "application/javascript": "\n    async function download(id, filename, size) {\n      if (!google.colab.kernel.accessAllowed) {\n        return;\n      }\n      const div = document.createElement('div');\n      const label = document.createElement('label');\n      label.textContent = `Downloading \"${filename}\": `;\n      div.appendChild(label);\n      const progress = document.createElement('progress');\n      progress.max = size;\n      div.appendChild(progress);\n      document.body.appendChild(div);\n\n      const buffers = [];\n      let downloaded = 0;\n\n      const channel = await google.colab.kernel.comms.open(id);\n      // Send a message to notify the kernel that we're ready.\n      channel.send({})\n\n      for await (const message of channel.messages) {\n        // Send a message to notify the kernel that we're ready.\n        channel.send({})\n        if (message.buffers) {\n          for (const buffer of message.buffers) {\n            buffers.push(buffer);\n            downloaded += buffer.byteLength;\n            progress.value = downloaded;\n          }\n        }\n      }\n      const blob = new Blob(buffers, {type: 'application/binary'});\n      const a = document.createElement('a');\n      a.href = window.URL.createObjectURL(blob);\n      a.download = filename;\n      div.appendChild(a);\n      a.click();\n      div.remove();\n    }\n  ",
            "text/plain": [
              "<IPython.core.display.Javascript object>"
            ]
          },
          "metadata": {},
          "output_type": "display_data"
        },
        {
          "data": {
            "application/javascript": "download(\"download_64ac8d2b-c025-4c68-aaad-ecb7b584f63d\", \"Y_combo_output4567.csv\", 467484142)",
            "text/plain": [
              "<IPython.core.display.Javascript object>"
            ]
          },
          "metadata": {},
          "output_type": "display_data"
        },
        {
          "data": {
            "application/javascript": "\n    async function download(id, filename, size) {\n      if (!google.colab.kernel.accessAllowed) {\n        return;\n      }\n      const div = document.createElement('div');\n      const label = document.createElement('label');\n      label.textContent = `Downloading \"${filename}\": `;\n      div.appendChild(label);\n      const progress = document.createElement('progress');\n      progress.max = size;\n      div.appendChild(progress);\n      document.body.appendChild(div);\n\n      const buffers = [];\n      let downloaded = 0;\n\n      const channel = await google.colab.kernel.comms.open(id);\n      // Send a message to notify the kernel that we're ready.\n      channel.send({})\n\n      for await (const message of channel.messages) {\n        // Send a message to notify the kernel that we're ready.\n        channel.send({})\n        if (message.buffers) {\n          for (const buffer of message.buffers) {\n            buffers.push(buffer);\n            downloaded += buffer.byteLength;\n            progress.value = downloaded;\n          }\n        }\n      }\n      const blob = new Blob(buffers, {type: 'application/binary'});\n      const a = document.createElement('a');\n      a.href = window.URL.createObjectURL(blob);\n      a.download = filename;\n      div.appendChild(a);\n      a.click();\n      div.remove();\n    }\n  ",
            "text/plain": [
              "<IPython.core.display.Javascript object>"
            ]
          },
          "metadata": {},
          "output_type": "display_data"
        },
        {
          "data": {
            "application/javascript": "download(\"download_af4e1355-0b2e-4a6c-bf5a-eb0275a83e6d\", \"X_combo_output4567.csv\", 467721340)",
            "text/plain": [
              "<IPython.core.display.Javascript object>"
            ]
          },
          "metadata": {},
          "output_type": "display_data"
        },
        {
          "data": {
            "application/javascript": "\n    async function download(id, filename, size) {\n      if (!google.colab.kernel.accessAllowed) {\n        return;\n      }\n      const div = document.createElement('div');\n      const label = document.createElement('label');\n      label.textContent = `Downloading \"${filename}\": `;\n      div.appendChild(label);\n      const progress = document.createElement('progress');\n      progress.max = size;\n      div.appendChild(progress);\n      document.body.appendChild(div);\n\n      const buffers = [];\n      let downloaded = 0;\n\n      const channel = await google.colab.kernel.comms.open(id);\n      // Send a message to notify the kernel that we're ready.\n      channel.send({})\n\n      for await (const message of channel.messages) {\n        // Send a message to notify the kernel that we're ready.\n        channel.send({})\n        if (message.buffers) {\n          for (const buffer of message.buffers) {\n            buffers.push(buffer);\n            downloaded += buffer.byteLength;\n            progress.value = downloaded;\n          }\n        }\n      }\n      const blob = new Blob(buffers, {type: 'application/binary'});\n      const a = document.createElement('a');\n      a.href = window.URL.createObjectURL(blob);\n      a.download = filename;\n      div.appendChild(a);\n      a.click();\n      div.remove();\n    }\n  ",
            "text/plain": [
              "<IPython.core.display.Javascript object>"
            ]
          },
          "metadata": {},
          "output_type": "display_data"
        },
        {
          "data": {
            "application/javascript": "download(\"download_52aade89-6798-4c88-b107-ecee14b755e1\", \"E_combo_output4567.csv\", 115743225)",
            "text/plain": [
              "<IPython.core.display.Javascript object>"
            ]
          },
          "metadata": {},
          "output_type": "display_data"
        },
        {
          "data": {
            "application/javascript": "\n    async function download(id, filename, size) {\n      if (!google.colab.kernel.accessAllowed) {\n        return;\n      }\n      const div = document.createElement('div');\n      const label = document.createElement('label');\n      label.textContent = `Downloading \"${filename}\": `;\n      div.appendChild(label);\n      const progress = document.createElement('progress');\n      progress.max = size;\n      div.appendChild(progress);\n      document.body.appendChild(div);\n\n      const buffers = [];\n      let downloaded = 0;\n\n      const channel = await google.colab.kernel.comms.open(id);\n      // Send a message to notify the kernel that we're ready.\n      channel.send({})\n\n      for await (const message of channel.messages) {\n        // Send a message to notify the kernel that we're ready.\n        channel.send({})\n        if (message.buffers) {\n          for (const buffer of message.buffers) {\n            buffers.push(buffer);\n            downloaded += buffer.byteLength;\n            progress.value = downloaded;\n          }\n        }\n      }\n      const blob = new Blob(buffers, {type: 'application/binary'});\n      const a = document.createElement('a');\n      a.href = window.URL.createObjectURL(blob);\n      a.download = filename;\n      div.appendChild(a);\n      a.click();\n      div.remove();\n    }\n  ",
            "text/plain": [
              "<IPython.core.display.Javascript object>"
            ]
          },
          "metadata": {},
          "output_type": "display_data"
        },
        {
          "data": {
            "application/javascript": "download(\"download_96ce0f2a-e8b9-461c-932e-4a82de5df29e\", \"A_combo_output4567.csv\", 115743225)",
            "text/plain": [
              "<IPython.core.display.Javascript object>"
            ]
          },
          "metadata": {},
          "output_type": "display_data"
        },
        {
          "data": {
            "application/javascript": "\n    async function download(id, filename, size) {\n      if (!google.colab.kernel.accessAllowed) {\n        return;\n      }\n      const div = document.createElement('div');\n      const label = document.createElement('label');\n      label.textContent = `Downloading \"${filename}\": `;\n      div.appendChild(label);\n      const progress = document.createElement('progress');\n      progress.max = size;\n      div.appendChild(progress);\n      document.body.appendChild(div);\n\n      const buffers = [];\n      let downloaded = 0;\n\n      const channel = await google.colab.kernel.comms.open(id);\n      // Send a message to notify the kernel that we're ready.\n      channel.send({})\n\n      for await (const message of channel.messages) {\n        // Send a message to notify the kernel that we're ready.\n        channel.send({})\n        if (message.buffers) {\n          for (const buffer of message.buffers) {\n            buffers.push(buffer);\n            downloaded += buffer.byteLength;\n            progress.value = downloaded;\n          }\n        }\n      }\n      const blob = new Blob(buffers, {type: 'application/binary'});\n      const a = document.createElement('a');\n      a.href = window.URL.createObjectURL(blob);\n      a.download = filename;\n      div.appendChild(a);\n      a.click();\n      div.remove();\n    }\n  ",
            "text/plain": [
              "<IPython.core.display.Javascript object>"
            ]
          },
          "metadata": {},
          "output_type": "display_data"
        },
        {
          "data": {
            "application/javascript": "download(\"download_7a289514-e2e8-48ca-8102-97111e67c7aa\", \"J_combo_output4567.csv\", 115743225)",
            "text/plain": [
              "<IPython.core.display.Javascript object>"
            ]
          },
          "metadata": {},
          "output_type": "display_data"
        },
        {
          "data": {
            "application/javascript": "\n    async function download(id, filename, size) {\n      if (!google.colab.kernel.accessAllowed) {\n        return;\n      }\n      const div = document.createElement('div');\n      const label = document.createElement('label');\n      label.textContent = `Downloading \"${filename}\": `;\n      div.appendChild(label);\n      const progress = document.createElement('progress');\n      progress.max = size;\n      div.appendChild(progress);\n      document.body.appendChild(div);\n\n      const buffers = [];\n      let downloaded = 0;\n\n      const channel = await google.colab.kernel.comms.open(id);\n      // Send a message to notify the kernel that we're ready.\n      channel.send({})\n\n      for await (const message of channel.messages) {\n        // Send a message to notify the kernel that we're ready.\n        channel.send({})\n        if (message.buffers) {\n          for (const buffer of message.buffers) {\n            buffers.push(buffer);\n            downloaded += buffer.byteLength;\n            progress.value = downloaded;\n          }\n        }\n      }\n      const blob = new Blob(buffers, {type: 'application/binary'});\n      const a = document.createElement('a');\n      a.href = window.URL.createObjectURL(blob);\n      a.download = filename;\n      div.appendChild(a);\n      a.click();\n      div.remove();\n    }\n  ",
            "text/plain": [
              "<IPython.core.display.Javascript object>"
            ]
          },
          "metadata": {},
          "output_type": "display_data"
        },
        {
          "data": {
            "application/javascript": "download(\"download_bcb7bff1-ef2e-49b8-8856-5049121b4b32\", \"h_combo_output4567.csv\", 115743225)",
            "text/plain": [
              "<IPython.core.display.Javascript object>"
            ]
          },
          "metadata": {},
          "output_type": "display_data"
        },
        {
          "data": {
            "application/javascript": "\n    async function download(id, filename, size) {\n      if (!google.colab.kernel.accessAllowed) {\n        return;\n      }\n      const div = document.createElement('div');\n      const label = document.createElement('label');\n      label.textContent = `Downloading \"${filename}\": `;\n      div.appendChild(label);\n      const progress = document.createElement('progress');\n      progress.max = size;\n      div.appendChild(progress);\n      document.body.appendChild(div);\n\n      const buffers = [];\n      let downloaded = 0;\n\n      const channel = await google.colab.kernel.comms.open(id);\n      // Send a message to notify the kernel that we're ready.\n      channel.send({})\n\n      for await (const message of channel.messages) {\n        // Send a message to notify the kernel that we're ready.\n        channel.send({})\n        if (message.buffers) {\n          for (const buffer of message.buffers) {\n            buffers.push(buffer);\n            downloaded += buffer.byteLength;\n            progress.value = downloaded;\n          }\n        }\n      }\n      const blob = new Blob(buffers, {type: 'application/binary'});\n      const a = document.createElement('a');\n      a.href = window.URL.createObjectURL(blob);\n      a.download = filename;\n      div.appendChild(a);\n      a.click();\n      div.remove();\n    }\n  ",
            "text/plain": [
              "<IPython.core.display.Javascript object>"
            ]
          },
          "metadata": {},
          "output_type": "display_data"
        },
        {
          "data": {
            "application/javascript": "download(\"download_ae062f22-8698-42d1-be27-9160ff958976\", \"T_combo_output4567.csv\", 462972900)",
            "text/plain": [
              "<IPython.core.display.Javascript object>"
            ]
          },
          "metadata": {},
          "output_type": "display_data"
        },
        {
          "data": {
            "application/javascript": "\n    async function download(id, filename, size) {\n      if (!google.colab.kernel.accessAllowed) {\n        return;\n      }\n      const div = document.createElement('div');\n      const label = document.createElement('label');\n      label.textContent = `Downloading \"${filename}\": `;\n      div.appendChild(label);\n      const progress = document.createElement('progress');\n      progress.max = size;\n      div.appendChild(progress);\n      document.body.appendChild(div);\n\n      const buffers = [];\n      let downloaded = 0;\n\n      const channel = await google.colab.kernel.comms.open(id);\n      // Send a message to notify the kernel that we're ready.\n      channel.send({})\n\n      for await (const message of channel.messages) {\n        // Send a message to notify the kernel that we're ready.\n        channel.send({})\n        if (message.buffers) {\n          for (const buffer of message.buffers) {\n            buffers.push(buffer);\n            downloaded += buffer.byteLength;\n            progress.value = downloaded;\n          }\n        }\n      }\n      const blob = new Blob(buffers, {type: 'application/binary'});\n      const a = document.createElement('a');\n      a.href = window.URL.createObjectURL(blob);\n      a.download = filename;\n      div.appendChild(a);\n      a.click();\n      div.remove();\n    }\n  ",
            "text/plain": [
              "<IPython.core.display.Javascript object>"
            ]
          },
          "metadata": {},
          "output_type": "display_data"
        },
        {
          "data": {
            "application/javascript": "download(\"download_7f8e57b0-7903-44fb-8c2f-7e20ec17b118\", \"w_combo_output4567.csv\", 462972900)",
            "text/plain": [
              "<IPython.core.display.Javascript object>"
            ]
          },
          "metadata": {},
          "output_type": "display_data"
        }
      ],
      "source": [
        "files.download(Y_output_file)\n",
        "files.download(X_output_file)\n",
        "files.download(E_output_file)\n",
        "files.download(A_output_file)\n",
        "files.download(J_output_file)\n",
        "files.download(h_output_file)\n",
        "files.download(T_output_file)\n",
        "files.download(w_output_file)"
      ]
    }
  ],
  "metadata": {
    "colab": {
      "provenance": []
    },
    "kernelspec": {
      "display_name": "Python 3",
      "name": "python3"
    },
    "language_info": {
      "name": "python"
    }
  },
  "nbformat": 4,
  "nbformat_minor": 0
}
